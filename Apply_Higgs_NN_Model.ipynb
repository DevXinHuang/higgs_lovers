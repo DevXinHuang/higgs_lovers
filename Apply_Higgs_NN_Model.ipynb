{
 "cells": [
  {
   "cell_type": "markdown",
   "id": "0f10320e",
   "metadata": {},
   "source": [
    "# Applying Trained Higgs NN Model to New Data\n",
    "\n",
    "This notebook demonstrates how to:\n",
    "1. Load a pre-trained Neural Network (NN) model and scaler.\n",
    "2. Load and preprocess new signal and background ROOT files (or other data sources).\n",
    "3. Apply the trained model to make predictions on this new data.\n",
    "4. Use a previously optimized NN output cut to select signal-like events.\n",
    "5. Calculate the expected Signal (S), Background (B), and Significance (e.g., S/sqrt(B))."
   ]
  },
  {
   "cell_type": "markdown",
   "id": "765c60ed",
   "metadata": {},
   "source": [
    "## 1. Imports"
   ]
  },
  {
   "cell_type": "code",
   "execution_count": 10,
   "id": "78326cb3",
   "metadata": {},
   "outputs": [],
   "source": [
    "import uproot\n",
    "import pandas as pd\n",
    "import numpy as np\n",
    "import awkward as ak\n",
    "import matplotlib.pyplot as plt\n",
    "import os\n",
    "import glob\n",
    "import joblib\n",
    "\n",
    "from sklearn.preprocessing import StandardScaler\n",
    "from sklearn.neural_network import MLPClassifier\n",
    "\n",
    "# Plotting style\n",
    "plt.style.use('seaborn-v0_8-pastel')\n",
    "plt.rcParams['figure.figsize'] = (10, 6)\n",
    "plt.rcParams['font.size'] = 12"
   ]
  },
  {
   "cell_type": "markdown",
   "id": "a62a7b54",
   "metadata": {},
   "source": [
    "## 2. Configuration"
   ]
  },
  {
   "cell_type": "code",
   "execution_count": 11,
   "id": "810884da",
   "metadata": {},
   "outputs": [
    {
     "name": "stdout",
     "output_type": "stream",
     "text": [
      "Configuration loaded.\n",
      "Model path: /Users/xin/Documents/Documents/College/Phys_392/higgs_lovers/higgs_nn_model_sn_opt.pkl\n",
      "Scaler path: /Users/xin/Documents/Documents/College/Phys_392/higgs_lovers/higgs_nn_scaler_sn_opt.pkl\n",
      "New signal pattern: /Users/xin/Documents/Documents/College/Phys_392/higgs_lovers/data/DAOD_PHYSLITE.38191712.*.pool.root.1\n",
      "New background path: /Users/xin/Documents/Documents/College/Phys_392/higgs_lovers/data/DAOD_PHYSLITE.37110937._000011.pool.root.1\n",
      "Optimized NN cut: 0.7227\n"
     ]
    }
   ],
   "source": [
    "# Paths to saved model and scaler (from Higgs_NN_SN_Optimization.ipynb)\n",
    "notebook_base_dir = os.getcwd() # Assumes this notebook is in 'higgs_lovers'\n",
    "model_path = os.path.join(notebook_base_dir, \"higgs_nn_model_sn_opt.pkl\")\n",
    "scaler_path = os.path.join(notebook_base_dir, \"higgs_nn_scaler_sn_opt.pkl\")\n",
    "\n",
    "\n",
    "# --- User Configuration for New Data ---\n",
    "# Using the same data as in Higgs_NN_SN_Optimization.ipynb for demonstration\n",
    "new_data_dir = os.path.join(notebook_base_dir, \"data\") \n",
    "new_signal_file_pattern = os.path.join(new_data_dir, \"DAOD_PHYSLITE.38191712.*.pool.root.1\")\n",
    "new_background_file_path = os.path.join(new_data_dir, \"DAOD_PHYSLITE.37110937._000011.pool.root.1\")\n",
    "\n",
    "\n",
    "# Tree name in your new ROOT files\n",
    "new_tree_name = \"CollectionTree\"\n",
    "\n",
    "# Branches to read for the new data. \n",
    "# These must allow you to reconstruct the 12 features the model was trained on.\n",
    "branches_to_read_new_data = [\n",
    "    \"AnalysisElectronsAuxDyn.pt\", \"AnalysisElectronsAuxDyn.charge\",\n",
    "    \"AnalysisMuonsAuxDyn.pt\", \"AnalysisMuonsAuxDyn.charge\",\n",
    "    \"EventInfoAuxDyn.mcEventWeights\", \"EventInfoAuxDyn.PileupWeight_NOSYS\"\n",
    "]\n",
    "\n",
    "# Optimized NN output cut from Higgs_NN_SN_Optimization.ipynb\n",
    "optimized_nn_cut = 0.7227 # From previous notebook run (S/sqrt(B) max @ 0.7227)\n",
    "print(f\"Configuration loaded.\")\n",
    "print(f\"Model path: {model_path}\")\n",
    "print(f\"Scaler path: {scaler_path}\")\n",
    "print(f\"New signal pattern: {new_signal_file_pattern}\")\n",
    "print(f\"New background path: {new_background_file_path}\")\n",
    "print(f\"Optimized NN cut: {optimized_nn_cut}\")"
   ]
  },
  {
   "cell_type": "markdown",
   "id": "11936654",
   "metadata": {},
   "source": [
    "## 3. Data Loading and Preprocessing Function for New Data"
   ]
  },
  {
   "cell_type": "code",
   "execution_count": 12,
   "id": "3dca5a51",
   "metadata": {},
   "outputs": [
    {
     "name": "stdout",
     "output_type": "stream",
     "text": [
      "load_and_preprocess_new_data function defined and adapted.\n"
     ]
    }
   ],
   "source": [
    "def load_and_preprocess_new_data(file_path, is_signal_flag, tree_name_param, branches_to_read_param):\n",
    "    \"\"\"\n",
    "    Reads a ROOT file, extracts and processes data to match the required 12 lepton features,\n",
    "    and returns a pandas DataFrame.\n",
    "    This version is adapted from Higgs_NN_SN_Optimization.ipynb make_mini_df function.\n",
    "    \"\"\"\n",
    "    try:\n",
    "        tree = uproot.open(file_path)[tree_name_param]\n",
    "    except Exception as e:\n",
    "        print(f\"Error opening file {file_path}: {e}\")\n",
    "        return pd.DataFrame()\n",
    "\n",
    "    try:\n",
    "        arr = tree.arrays(branches_to_read_param, library=\"ak\")\n",
    "    except Exception as e:\n",
    "        print(f\"Error reading branches from {file_path}: {e}\")\n",
    "        return pd.DataFrame()\n",
    "\n",
    "    # Separate electrons and muons\n",
    "    ele_pt = arr[\"AnalysisElectronsAuxDyn.pt\"]\n",
    "    ele_charge = arr[\"AnalysisElectronsAuxDyn.charge\"]\n",
    "    mu_pt = arr[\"AnalysisMuonsAuxDyn.pt\"]\n",
    "    mu_charge = arr[\"AnalysisMuonsAuxDyn.charge\"]\n",
    "\n",
    "    # Concatenate into one [n_events, n_leptons] array\n",
    "    lep_pt = ak.concatenate([ele_pt, mu_pt], axis=1)\n",
    "    lep_charge = ak.concatenate([ele_charge, mu_charge], axis=1)\n",
    "    \n",
    "    # Create a type array: 11 for electrons, 13 for muons\n",
    "    lep_type = ak.concatenate([\n",
    "        ak.full_like(ele_pt, 11),\n",
    "        ak.full_like(mu_pt, 13)\n",
    "    ], axis=1)\n",
    "\n",
    "    # Keep only events with at least 4 leptons\n",
    "    four_lepton_mask = ak.num(lep_pt) >= 4\n",
    "    \n",
    "    lep_pt = lep_pt[four_lepton_mask]\n",
    "    lep_charge = lep_charge[four_lepton_mask]\n",
    "    lep_type = lep_type[four_lepton_mask]\n",
    "    \n",
    "    if len(lep_pt) == 0:\n",
    "        print(f\"No events with >= 4 leptons in {file_path}\")\n",
    "        return pd.DataFrame()\n",
    "\n",
    "    # Event weights\n",
    "    mc_weights = arr[\"EventInfoAuxDyn.mcEventWeights\"][four_lepton_mask]\n",
    "    nominal_mc_weight = mc_weights[:, 0] if mc_weights.ndim > 1 else mc_weights\n",
    "    pileup_weight = arr[\"EventInfoAuxDyn.PileupWeight_NOSYS\"][four_lepton_mask]\n",
    "    total_event_weight = nominal_mc_weight * pileup_weight\n",
    "\n",
    "    # Construct the DataFrame with the 12 features\n",
    "    df_dict = {\n",
    "        \"lep_pt_1\": lep_pt[:, 0] / 1000.0, # MeV to GeV\n",
    "        \"lep_pt_2\": lep_pt[:, 1] / 1000.0,\n",
    "        \"lep_pt_3\": lep_pt[:, 2] / 1000.0,\n",
    "        \"lep_pt_4\": lep_pt[:, 3] / 1000.0,\n",
    "        \"lep_charge_1\": lep_charge[:, 0], \"lep_charge_2\": lep_charge[:, 1],\n",
    "        \"lep_charge_3\": lep_charge[:, 2], \"lep_charge_4\": lep_charge[:, 3],\n",
    "        \"lep_type_1\": lep_type[:, 0], \"lep_type_2\": lep_type[:, 1],\n",
    "        \"lep_type_3\": lep_type[:, 2], \"lep_type_4\": lep_type[:, 3],\n",
    "        \"totalWeight\": total_event_weight,\n",
    "        \"isSignal\": is_signal_flag\n",
    "    }\n",
    "    df = pd.DataFrame(df_dict)\n",
    "    \n",
    "    # Apply physics-based pre-selections (same as in training)\n",
    "    charge_sum_mask = (df[\"lep_charge_1\"] + df[\"lep_charge_2\"] + df[\"lep_charge_3\"] + df[\"lep_charge_4\"]) == 0\n",
    "    df = df[charge_sum_mask]\n",
    "    \n",
    "    valid_lepton_type_sums = {44, 48, 52} # 4e, 2e2mu, 4mu\n",
    "    type_sum = (df[\"lep_type_1\"] + df[\"lep_type_2\"] + df[\"lep_type_3\"] + df[\"lep_type_4\"])\n",
    "    df = df[type_sum.isin(valid_lepton_type_sums)]\n",
    "    \n",
    "    return df\n",
    "\n",
    "print(\"load_and_preprocess_new_data function defined and adapted.\")"
   ]
  },
  {
   "cell_type": "markdown",
   "id": "384f53d1",
   "metadata": {},
   "source": [
    "## 4. Load New Signal and Background Data"
   ]
  },
  {
   "cell_type": "code",
   "execution_count": 13,
   "id": "a6cfe3aa",
   "metadata": {},
   "outputs": [
    {
     "name": "stdout",
     "output_type": "stream",
     "text": [
      "Found 17 new signal files. Processing...\n",
      "Error opening file /Users/xin/Documents/Documents/College/Phys_392/higgs_lovers/data/DAOD_PHYSLITE.38191712._000019.pool.root.1: expected Chunk of length 814,\n",
      "received 0 bytes from FSSpecSource\n",
      "for file path /Users/xin/Documents/Documents/College/Phys_392/higgs_lovers/data/DAOD_PHYSLITE.38191712._000019.pool.root.1\n",
      "Error opening file /Users/xin/Documents/Documents/College/Phys_392/higgs_lovers/data/DAOD_PHYSLITE.38191712._000019.pool.root.1: expected Chunk of length 814,\n",
      "received 0 bytes from FSSpecSource\n",
      "for file path /Users/xin/Documents/Documents/College/Phys_392/higgs_lovers/data/DAOD_PHYSLITE.38191712._000019.pool.root.1\n",
      "New Signal DataFrame shape: (614610, 14)\n",
      "Processing new background file: /Users/xin/Documents/Documents/College/Phys_392/higgs_lovers/data/DAOD_PHYSLITE.37110937._000011.pool.root.1\n",
      "New Signal DataFrame shape: (614610, 14)\n",
      "Processing new background file: /Users/xin/Documents/Documents/College/Phys_392/higgs_lovers/data/DAOD_PHYSLITE.37110937._000011.pool.root.1\n",
      "New Background DataFrame shape: (23002, 14)\n",
      "New Combined DataFrame shape before dropna: (637612, 14)\n",
      "New Combined DataFrame head:\n",
      "    lep_pt_1   lep_pt_2   lep_pt_3   lep_pt_4  lep_charge_1  lep_charge_2  \\\n",
      "0  42.957859   8.690395  30.661028  33.016880          -1.0           1.0   \n",
      "1  22.838409  10.025050  56.261272  25.642719           1.0          -1.0   \n",
      "2  12.328343   3.437512  33.550045  43.904926           1.0          -1.0   \n",
      "3  22.623690  14.743960  57.936649  29.537657           1.0          -1.0   \n",
      "4  53.933281  50.438854  43.298580  12.480606           1.0          -1.0   \n",
      "\n",
      "   lep_charge_3  lep_charge_4  lep_type_1  lep_type_2  lep_type_3  lep_type_4  \\\n",
      "0           1.0          -1.0        11.0        11.0        13.0        13.0   \n",
      "1           1.0          -1.0        11.0        11.0        13.0        13.0   \n",
      "2          -1.0           1.0        11.0        11.0        13.0        13.0   \n",
      "3           1.0          -1.0        11.0        11.0        13.0        13.0   \n",
      "4          -1.0           1.0        11.0        11.0        11.0        11.0   \n",
      "\n",
      "   totalWeight  isSignal  \n",
      "0    32.962250         1  \n",
      "1    29.741957         1  \n",
      "2    20.806816         1  \n",
      "3    28.414465         1  \n",
      "4    29.175289         1  \n",
      "New Combined DataFrame shape after dropna: (637612, 14)\n",
      "New Background DataFrame shape: (23002, 14)\n",
      "New Combined DataFrame shape before dropna: (637612, 14)\n",
      "New Combined DataFrame head:\n",
      "    lep_pt_1   lep_pt_2   lep_pt_3   lep_pt_4  lep_charge_1  lep_charge_2  \\\n",
      "0  42.957859   8.690395  30.661028  33.016880          -1.0           1.0   \n",
      "1  22.838409  10.025050  56.261272  25.642719           1.0          -1.0   \n",
      "2  12.328343   3.437512  33.550045  43.904926           1.0          -1.0   \n",
      "3  22.623690  14.743960  57.936649  29.537657           1.0          -1.0   \n",
      "4  53.933281  50.438854  43.298580  12.480606           1.0          -1.0   \n",
      "\n",
      "   lep_charge_3  lep_charge_4  lep_type_1  lep_type_2  lep_type_3  lep_type_4  \\\n",
      "0           1.0          -1.0        11.0        11.0        13.0        13.0   \n",
      "1           1.0          -1.0        11.0        11.0        13.0        13.0   \n",
      "2          -1.0           1.0        11.0        11.0        13.0        13.0   \n",
      "3           1.0          -1.0        11.0        11.0        13.0        13.0   \n",
      "4          -1.0           1.0        11.0        11.0        11.0        11.0   \n",
      "\n",
      "   totalWeight  isSignal  \n",
      "0    32.962250         1  \n",
      "1    29.741957         1  \n",
      "2    20.806816         1  \n",
      "3    28.414465         1  \n",
      "4    29.175289         1  \n",
      "New Combined DataFrame shape after dropna: (637612, 14)\n"
     ]
    }
   ],
   "source": [
    "# Load new signal files\n",
    "new_signal_files = glob.glob(new_signal_file_pattern)\n",
    "if not new_signal_files:\n",
    "    print(f\"No new signal files found matching pattern: {new_signal_file_pattern}\")\n",
    "    new_signal_df = pd.DataFrame()\n",
    "else:\n",
    "    print(f\"Found {len(new_signal_files)} new signal files. Processing...\")\n",
    "    new_signal_dfs = [load_and_preprocess_new_data(f, 1, new_tree_name, branches_to_read_new_data) for f in new_signal_files]\n",
    "    new_signal_df = pd.concat(new_signal_dfs, ignore_index=True)\n",
    "\n",
    "print(f\"New Signal DataFrame shape: {new_signal_df.shape}\")\n",
    "\n",
    "# Load new background file\n",
    "if not os.path.exists(new_background_file_path):\n",
    "    print(f\"New background file not found: {new_background_file_path}\")\n",
    "    new_background_df = pd.DataFrame()\n",
    "else:\n",
    "    print(f\"Processing new background file: {new_background_file_path}\")\n",
    "    new_background_df = load_and_preprocess_new_data(new_background_file_path, 0, new_tree_name, branches_to_read_new_data)\n",
    "print(f\"New Background DataFrame shape: {new_background_df.shape}\")\n",
    "\n",
    "# Combine new signal and background\n",
    "if not new_signal_df.empty or not new_background_df.empty:\n",
    "    new_combined_df = pd.concat([new_signal_df, new_background_df], ignore_index=True)\n",
    "    print(f\"New Combined DataFrame shape before dropna: {new_combined_df.shape}\")\n",
    "    print(\"New Combined DataFrame head:\")\n",
    "    print(new_combined_df.head())\n",
    "    new_combined_df.dropna(inplace=True) # Basic cleaning\n",
    "    print(f\"New Combined DataFrame shape after dropna: {new_combined_df.shape}\")\n",
    "else:\n",
    "    print(\"Both new signal and background DataFrames are empty. Cannot proceed.\")\n",
    "    new_combined_df = pd.DataFrame() # Ensure it's defined"
   ]
  },
  {
   "cell_type": "markdown",
   "id": "96f3665f",
   "metadata": {},
   "source": [
    "## 5. Load Trained Model and Scaler"
   ]
  },
  {
   "cell_type": "code",
   "execution_count": 14,
   "id": "a6f1d0e9",
   "metadata": {},
   "outputs": [
    {
     "name": "stdout",
     "output_type": "stream",
     "text": [
      "Trained model and scaler loaded successfully.\n"
     ]
    }
   ],
   "source": [
    "try:\n",
    "    loaded_model = joblib.load(model_path)\n",
    "    loaded_scaler = joblib.load(scaler_path)\n",
    "    print(\"Trained model and scaler loaded successfully.\")\n",
    "except FileNotFoundError:\n",
    "    print(f\"Error: Saved model ('{model_path}') or scaler ('{scaler_path}') not found.\")\n",
    "    print(\"Please ensure the paths are correct and the model training notebook has been run.\")\n",
    "    loaded_model = None\n",
    "    loaded_scaler = None\n",
    "except Exception as e:\n",
    "    print(f\"An error occurred while loading model/scaler: {e}\")\n",
    "    loaded_model = None\n",
    "    loaded_scaler = None"
   ]
  },
  {
   "cell_type": "markdown",
   "id": "bb8ae8b1",
   "metadata": {},
   "source": [
    "## 6. Prepare Features from New Data and Make Predictions"
   ]
  },
  {
   "cell_type": "code",
   "execution_count": 15,
   "id": "95cdff1b",
   "metadata": {},
   "outputs": [
    {
     "name": "stdout",
     "output_type": "stream",
     "text": [
      "New data scaled. X_new_scaled shape: (637612, 12)\n",
      "Predictions made on new data. y_new_pred_proba shape: (637612,)\n",
      "\n",
      "Example predictions (NN scores) for first 5 new events:\n",
      "  Event 0: True Label=1, Weight=32.96, NN Score=0.7602\n",
      "  Event 1: True Label=1, Weight=29.74, NN Score=0.8443\n",
      "  Event 2: True Label=1, Weight=20.81, NN Score=0.4121\n",
      "  Event 3: True Label=1, Weight=28.41, NN Score=0.8478\n",
      "  Event 4: True Label=1, Weight=29.18, NN Score=0.1582\n",
      "Predictions made on new data. y_new_pred_proba shape: (637612,)\n",
      "\n",
      "Example predictions (NN scores) for first 5 new events:\n",
      "  Event 0: True Label=1, Weight=32.96, NN Score=0.7602\n",
      "  Event 1: True Label=1, Weight=29.74, NN Score=0.8443\n",
      "  Event 2: True Label=1, Weight=20.81, NN Score=0.4121\n",
      "  Event 3: True Label=1, Weight=28.41, NN Score=0.8478\n",
      "  Event 4: True Label=1, Weight=29.18, NN Score=0.1582\n"
     ]
    }
   ],
   "source": [
    "if loaded_model and loaded_scaler and not new_combined_df.empty:\n",
    "    # Define features list (must match training)\n",
    "    features_list = [\n",
    "        'lep_pt_1', 'lep_pt_2', 'lep_pt_3', 'lep_pt_4', \n",
    "        'lep_charge_1', 'lep_charge_2', 'lep_charge_3', 'lep_charge_4',\n",
    "        'lep_type_1', 'lep_type_2', 'lep_type_3', 'lep_type_4'\n",
    "    ]\n",
    "    \n",
    "    # Check if all required features are in the new_combined_df\n",
    "    if all(feature in new_combined_df.columns for feature in features_list) and \\\n",
    "       'isSignal' in new_combined_df.columns and 'totalWeight' in new_combined_df.columns:\n",
    "        \n",
    "        X_new = new_combined_df[features_list].values\n",
    "        y_new_true = new_combined_df[\"isSignal\"] # True labels for the new data (if available)\n",
    "        w_new = new_combined_df[\"totalWeight\"]    # Weights for the new data\n",
    "\n",
    "        # Scale the new data features\n",
    "        X_new_scaled = loaded_scaler.transform(X_new)\n",
    "        print(f\"New data scaled. X_new_scaled shape: {X_new_scaled.shape}\")\n",
    "\n",
    "        # Make predictions (probabilities for the positive class, i.e., signal)\n",
    "        y_new_pred_proba = loaded_model.predict_proba(X_new_scaled)[:, 1]\n",
    "        print(f\"Predictions made on new data. y_new_pred_proba shape: {y_new_pred_proba.shape}\")\n",
    "        \n",
    "        # Display a few example predictions\n",
    "        print(\"\\nExample predictions (NN scores) for first 5 new events:\")\n",
    "        for i in range(min(5, len(y_new_pred_proba))):\n",
    "            print(f\"  Event {i}: True Label={y_new_true.iloc[i] if not y_new_true.empty else 'N/A'}, Weight={w_new.iloc[i]:.2f}, NN Score={y_new_pred_proba[i]:.4f}\")\n",
    "            \n",
    "    else:\n",
    "        print(\"Error: Not all required columns (features, isSignal, totalWeight) found in new_combined_df.\")\n",
    "        print(f\"Required features: {features_list}\")\n",
    "        print(f\"Available columns: {new_combined_df.columns.tolist()}\")\n",
    "        X_new_scaled = np.array([])\n",
    "        y_new_pred_proba = np.array([])\n",
    "        y_new_true = pd.Series()\n",
    "        w_new = pd.Series()\n",
    "        \n",
    "elif new_combined_df.empty:\n",
    "    print(\"New combined DataFrame is empty. Cannot make predictions.\")\n",
    "    X_new_scaled = np.array([])\n",
    "    y_new_pred_proba = np.array([])\n",
    "    y_new_true = pd.Series()\n",
    "    w_new = pd.Series()\n",
    "else:\n",
    "    print(\"Model or scaler not loaded. Cannot make predictions.\")\n",
    "    X_new_scaled = np.array([])\n",
    "    y_new_pred_proba = np.array([])\n",
    "    y_new_true = pd.Series()\n",
    "    w_new = pd.Series()"
   ]
  },
  {
   "cell_type": "markdown",
   "id": "bd5d87f3",
   "metadata": {},
   "source": [
    "## 7. Apply Optimized Cut and Calculate S, B for New Data"
   ]
  },
  {
   "cell_type": "code",
   "execution_count": 16,
   "id": "97b3f809",
   "metadata": {},
   "outputs": [
    {
     "name": "stdout",
     "output_type": "stream",
     "text": [
      "\n",
      "Applied cut NN > 0.7227 to new data:\n",
      "  Weighted Signal Events (S_new): 9751837.00\n",
      "  Weighted Background Events (B_new): 56532512.00\n"
     ]
    }
   ],
   "source": [
    "if y_new_pred_proba.size > 0 and not y_new_true.empty and not w_new.empty:\n",
    "    # Apply the optimized threshold to the NN output probabilities for the new data\n",
    "    selected_new_signal_mask = (y_new_true == 1) & (y_new_pred_proba >= optimized_nn_cut)\n",
    "    selected_new_background_mask = (y_new_true == 0) & (y_new_pred_proba >= optimized_nn_cut)\n",
    "\n",
    "    # Calculate weighted sum of signal (S_new) and background (B_new) events in the new data\n",
    "    S_final_new = np.sum(w_new[selected_new_signal_mask])\n",
    "    B_final_new = np.sum(w_new[selected_new_background_mask])\n",
    "\n",
    "    print(f\"\\nApplied cut NN > {optimized_nn_cut:.4f} to new data:\")\n",
    "    print(f\"  Weighted Signal Events (S_new): {S_final_new:.2f}\")\n",
    "    print(f\"  Weighted Background Events (B_new): {B_final_new:.2f}\")\n",
    "else:\n",
    "    print(\"Cannot apply cut: Predictions, true labels, or weights for new data are not available or empty.\")\n",
    "    S_final_new = 0\n",
    "    B_final_new = 0"
   ]
  },
  {
   "cell_type": "markdown",
   "id": "0dfe89eb",
   "metadata": {},
   "source": [
    "## 8. Calculate Significance for New Data"
   ]
  },
  {
   "cell_type": "code",
   "execution_count": 17,
   "id": "4c505693",
   "metadata": {},
   "outputs": [
    {
     "name": "stdout",
     "output_type": "stream",
     "text": [
      "  S/sqrt(B) for new data: 1296.99\n",
      "  S/B for new data: 0.17\n",
      "  Asimov Significance (Z_A) for new data: 1262.15\n"
     ]
    }
   ],
   "source": [
    "if S_final_new > 0 or B_final_new > 0: # Proceed if there are any events after cut\n",
    "    # S/sqrt(B) - Simple significance\n",
    "    if B_final_new > 0:\n",
    "        s_over_sqrt_b_new = S_final_new / np.sqrt(B_final_new)\n",
    "        print(f\"  S/sqrt(B) for new data: {s_over_sqrt_b_new:.2f}\")\n",
    "    else:\n",
    "        s_over_sqrt_b_new = np.inf if S_final_new > 0 else 0\n",
    "        print(f\"  S/sqrt(B) for new data: {s_over_sqrt_b_new} (B_new is 0)\")\n",
    "    \n",
    "    # S/B ratio\n",
    "    if B_final_new > 0:\n",
    "        s_over_b_new = S_final_new / B_final_new\n",
    "        print(f\"  S/B for new data: {s_over_b_new:.2f}\")\n",
    "    else:\n",
    "        s_over_b_new = np.inf if S_final_new > 0 else 0\n",
    "        print(f\"  S/B for new data: {s_over_b_new} (B_new is 0)\")\n",
    "        \n",
    "    # Asimov Significance (Z_A) - More advanced, often used in HEP\n",
    "    # Z_A = sqrt(2 * ((S+B) * ln(1+S/B) - S))\n",
    "    # This formula assumes B is well-known. For cases with uncertainty on B, more complex formulae are used.\n",
    "    if S_final_new >= 0 and B_final_new > 0: # S must be non-negative\n",
    "        try:\n",
    "            asimov_significance = np.sqrt(2 * ((S_final_new + B_final_new) * np.log(1 + S_final_new / B_final_new) - S_final_new))\n",
    "            print(f\"  Asimov Significance (Z_A) for new data: {asimov_significance:.2f}\")\n",
    "        except Exception as e:\n",
    "            print(f\"  Could not calculate Asimov significance: {e}\")\n",
    "    elif S_final_new > 0 and B_final_new == 0:\n",
    "        print(\"  Asimov Significance (Z_A) for new data: Inf (B_new is 0, S_new > 0)\")\n",
    "    else: # S_final_new is 0 or (S_final_new is 0 and B_final_new is 0)\n",
    "        print(\"  Asimov Significance (Z_A) for new data: 0\")\n",
    "else:\n",
    "    print(\"No signal or background events found after applying the cut to new data. Cannot calculate significance.\")"
   ]
  },
  {
   "cell_type": "markdown",
   "id": "205ff7fb",
   "metadata": {},
   "source": [
    "## 9. Visualization of NN Output on New Data (Optional)"
   ]
  },
  {
   "cell_type": "code",
   "execution_count": 18,
   "id": "41c122b0",
   "metadata": {},
   "outputs": [
    {
     "data": {
      "image/png": "[encoded data removed]",
      "text/plain": [
       "<Figure size 1000x600 with 1 Axes>"
      ]
     },
     "metadata": {},
     "output_type": "display_data"
    }
   ],
   "source": [
    "if y_new_pred_proba.size > 0 and not y_new_true.empty and not w_new.empty:\n",
    "    plt.figure()\n",
    "    # Plot NN output for new signal events\n",
    "    plt.hist(y_new_pred_proba[y_new_true == 1], bins=50, weights=w_new[y_new_true == 1],\n",
    "             label='New Signal Data', histtype='stepfilled', alpha=0.7, density=True)\n",
    "    # Plot NN output for new background events\n",
    "    plt.hist(y_new_pred_proba[y_new_true == 0], bins=50, weights=w_new[y_new_true == 0],\n",
    "             label='New Background Data', histtype='stepfilled', alpha=0.7, density=True)\n",
    "    \n",
    "    plt.axvline(optimized_nn_cut, color='red', linestyle='--', lw=2,\n",
    "                label=f'Optimized Cut @ {optimized_nn_cut:.2f}')\n",
    "\n",
    "    plt.xlabel('NN Output Score (on New Data)')\n",
    "    plt.ylabel('Normalized Events')\n",
    "    plt.title('NN Output Distribution on New Data')\n",
    "    plt.legend()\n",
    "    plt.grid(True)\n",
    "    plt.yscale('log') # Use log scale for y-axis if desired\n",
    "    plt.show()\n",
    "else:\n",
    "    print(\"Cannot plot: Predictions, true labels, or weights for new data are not available or empty.\")"
   ]
  },
  {
   "cell_type": "markdown",
   "id": "b67c624c",
   "metadata": {},
   "source": [
    "## 10. Conclusion for New Data Application\n",
    "\n",
    "This notebook section outlined the steps to apply the trained model. Key takeaways:\n",
    "- The reusability of the model depends heavily on consistent feature engineering for new data.\n",
    "- The optimized cut from the original dataset can be applied, but its performance should be re-evaluated on the new dataset if its characteristics differ significantly.\n",
    "- Significance calculations provide a quantitative measure of the model's effectiveness in separating signal from background on the new data."
   ]
  }
 ],
 "metadata": {
  "kernelspec": {
   "display_name": "venv",
   "language": "python",
   "name": "python3"
  },
  "language_info": {
   "codemirror_mode": {
    "name": "ipython",
    "version": 3
   },
   "file_extension": ".py",
   "mimetype": "text/x-python",
   "name": "python",
   "nbconvert_exporter": "python",
   "pygments_lexer": "ipython3",
   "version": "3.10.12"
  }
 },
 "nbformat": 4,
 "nbformat_minor": 5
}
